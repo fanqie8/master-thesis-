{
 "cells": [
  {
   "cell_type": "markdown",
   "id": "b841d37d",
   "metadata": {},
   "source": [
    "# 中文分词 Chinese words cut"
   ]
  },
  {
   "cell_type": "code",
   "execution_count": 11,
   "id": "211824c4",
   "metadata": {
    "scrolled": false
   },
   "outputs": [
    {
     "name": "stdout",
     "output_type": "stream",
     "text": [
      "分词结果： 绿色食品/与/饥饿/目前/，/人类/面对/的/问题/不少/。/饥饿/的/问题/也/是/其中/之一/。/有/的/人/主张/，/为了/提高/农作物/的/产量/，/要用/更/多/的/化肥/和/农药/。/但是/我/坚决/反对/这种/态度/。/首先/，/多用/化肥/和/农药/的/主张/是/目光/短线/的/想法/。/因为/，/化肥/和/农药/会/导致/土质/的/恶化/。/这/就/意味着/我们/失去/那/块/土地/。/这样/做/下去/，/在/地球/上能/种地/的/土地/没有/几块/了/。/这/不是/目光/短线/的/行为/吗/？/其次/，/用/化肥/和/农药/的/农作物/害于/人体/，/甚至/导致/致命/的/病/。/所以/我/反对/多用/农药/和/化肥/和/主张/。/但是/，/我们/还有/饥/的/问题/，/这/也/是/不能/忽视/的/。/那么/我们/怎么/解决/这个/问题/呢/？/现在/的/科学/非常/发达/。/我们/一起/努力/开发新/的/农作物/品种/，/即/，/通过/品种/的/开发/，/生产/更/多/的/农作物/。/这样/一定/有利于/解决/饥饿/的/问题/。/虽然/，/我们/要/解决/饥饿/的/问题/，/但是/，/为了/人/娄/的/未来/，/我们/还/坚持/生产/绿色食品/。/这/就是/对/绿色食品/与/饥饿/的/我/的/看法/。\n"
     ]
    }
   ],
   "source": [
    "import jieba\n",
    "k = jieba.cut('绿色食品与饥饿目前，人类面对的问题不少。饥饿的问题也是其中之一。有的人主张，为了提高农作物的产量，要用更多的化肥和农药。但是我坚决反对这种态度。首先，多用化肥和农药的主张是目光短线的想法。因为，化肥和农药会导致土质的恶化。这就意味着我们失去那块土地。这样做下去，在地球上能种地的土地没有几块了。这不是目光短线的行为吗？其次，用化肥和农药的农作物害于人体，甚至导致致命的病。所以我反对多用农药和化肥和主张。但是，我们还有饥的问题，这也是不能忽视的。那么我们怎么解决这个问题呢？现在的科学非常发达。我们一起努力开发新的农作物品种，即，通过品种的开发，生产更多的农作物。这样一定有利于解决饥饿的问题。虽然，我们要解决饥饿的问题，但是，为了人娄的未来，我们还坚持生产绿色食品。这就是对绿色食品与饥饿的我的看法。',cut_all = False)\n",
    "print('分词结果：','/'.join(k))"
   ]
  },
  {
   "cell_type": "markdown",
   "id": "214cbde7",
   "metadata": {},
   "source": [
    "# 连词检测 Connectives words detection"
   ]
  },
  {
   "cell_type": "code",
   "execution_count": 1,
   "id": "a855f558",
   "metadata": {},
   "outputs": [
    {
     "name": "stdout",
     "output_type": "stream",
     "text": [
      "请输入:之所以吃绿色食品很有好处，是因为它们富含维生素。\n"
     ]
    },
    {
     "name": "stderr",
     "output_type": "stream",
     "text": [
      "Building prefix dict from the default dictionary ...\n",
      "Loading model from cache C:\\Users\\dawns\\AppData\\Local\\Temp\\jieba.cache\n"
     ]
    },
    {
     "name": "stdout",
     "output_type": "stream",
     "text": [
      "你输入的是: 之所以吃绿色食品很有好处，是因为它们富含维生素。\n"
     ]
    },
    {
     "name": "stderr",
     "output_type": "stream",
     "text": [
      "Loading model cost 0.855 seconds.\n",
      "Prefix dict has been built successfully.\n"
     ]
    },
    {
     "name": "stdout",
     "output_type": "stream",
     "text": [
      "['有', '有', '有', '有', '是因为', '有', '之所以', '之所以', '是因为', '有']\n"
     ]
    }
   ],
   "source": [
    "import pandas as pd\n",
    "import numpy as np\n",
    "import re\n",
    "import jieba\n",
    "import string\n",
    "import zhon\n",
    "from zhon.hanzi import punctuation\n",
    "punctuation\n",
    "string.punctuation\n",
    "data=pd.read_excel(r'C:\\Users\\dawns\\Desktop\\Master thesis\\data\\connectives corpus.xlsx',index_col=None,header=0)\n",
    "dic=data.to_dict()\n",
    "k=str(dic)\n",
    "k\n",
    "x=input('请输入:''')\n",
    "print('你输入的是:',x)\n",
    "line = re.sub('\\W*', '',x)\n",
    "line1=list(jieba.cut(line))\n",
    "line2='|'.join(line1)\n",
    "line2\n",
    "print(re.findall(line2,k))\n",
    "\n",
    "\n",
    "\n",
    "\n",
    "\n",
    "\n",
    "\n"
   ]
  },
  {
   "cell_type": "code",
   "execution_count": null,
   "id": "2be44e62",
   "metadata": {},
   "outputs": [],
   "source": []
  }
 ],
 "metadata": {
  "kernelspec": {
   "display_name": "Python 3 (ipykernel)",
   "language": "python",
   "name": "python3"
  },
  "language_info": {
   "codemirror_mode": {
    "name": "ipython",
    "version": 3
   },
   "file_extension": ".py",
   "mimetype": "text/x-python",
   "name": "python",
   "nbconvert_exporter": "python",
   "pygments_lexer": "ipython3",
   "version": "3.9.7"
  }
 },
 "nbformat": 4,
 "nbformat_minor": 5
}
