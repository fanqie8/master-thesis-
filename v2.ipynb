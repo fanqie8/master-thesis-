{
 "cells": [
  {
   "cell_type": "code",
   "execution_count": 1,
   "id": "7eaed26f",
   "metadata": {},
   "outputs": [
    {
     "name": "stdout",
     "output_type": "stream",
     "text": [
      "请输入:绿色食品与饥饿每个星期我妈妈去买疏菜的时候，我也跟着去.我妈妈不愿意在商店买菜，喜欢去市场买菜。我对妈妈的这种态度非常不满。商店比市场近得多。而且商店里的疏菜看起来非常新鲜。但在市场上卖的那些疏菜看起来不太新鲜，而且有时我在疏菜上发现了有虫虫。有一天，我和妈妈去市场。市场离我家太远，那时我太累了.我生气得跟妈妈说“你为什么每次上市场买东酉呢？在商店买多方便，而且商店里的东酉比市场还新鲜多呢？”我妈对我说“看来商店里的菜比较好看一些，但是那里的东西都是以化肥和农药生长的，所以看起来我看一些，但对我们身体建康上看来，还是市场的绿色食品对人类好。”在过几天后，我在电视上看到了非州的挨饿的人民.电视上还说“现在世界上几亿人因缺小粮食而挨饿，为了他们生存我们要使用化肥和农药，一定要提高疏菜的产量。”但我还是认为不能用化肥和农药。化肥和农药不仅对人类有害，而且对地球的土壤也有非常大害.现在人类科学的进步非常快。我觉得我们不到几十年前可以开开不用农药而提高产量的方法。这样的话不仅对非州人们好()(157D)\"}\n"
     ]
    },
    {
     "name": "stderr",
     "output_type": "stream",
     "text": [
      "Building prefix dict from the default dictionary ...\n",
      "Loading model from cache C:\\Users\\dawns\\AppData\\Local\\Temp\\jieba.cache\n",
      "Loading model cost 0.726 seconds.\n",
      "Prefix dict has been built successfully.\n"
     ]
    },
    {
     "name": "stdout",
     "output_type": "stream",
     "text": [
      "Connevtive corpus word cut results: 跟|便|并|既|不是|果然|像|即使|别说|凡是|免得|除了|和|此外|并非|既然|便是|果真|好比|即令|并且|方才|以免|除开|还有|而|诚然|加上|乃是|假如|如同|尽管|不单|除非|为的是|到底|或者|刚|但|加以|还是|假若|似乎|尽管如此|不但|只要|为了|反正|及|换言之|但是|结果|或|那样|等于|就是|而且|不管|一来|不然|既|即|虽然|因为|或是|假使|不如|就算|不光|任凭|一则|单连|继而|反倒|看样子|宁|那样|不及|哪怕|不仅|无论|以便|综上所述|一方面|接着|反而|然则|宁可|如果|不比愈|不|只|终归|以防|由此可见|且|进而|反|之所以|宁肯|如|何况|终究|免得|也就是说|时而|紧接着|否则|惟其|宁愿|若|不惟|在|总归|省得|总之|同时|就|固然|惟有|绝不|设若|不仅仅|不论|以免|起先|同样|可见|可是|幸而|抑或|倘若|而况|譬如|一边|另外|可惜|才|毋宁|倘|非但|起初|一会|每当|明明|幸好|兴许|倘使|况且|后来|一面|每逢|明知|幸亏|许是|万一|尚且|例如|以及|乃|其实|以至于|要不然|要不是|光|就是说|又|乃至|恰恰相反|以至|抑|一旦|甚至于|据说|再则|其次|却|因|与其|要是|特别|再说|其中|然而|因此|与其说|甚至|或者说|然后|虽|因而|尤其|首先|唯独|由于|随后|无奈|从而|随即|要么|于是|遂|只不过|之所以|所谓|只有|是因为|先|纵然|怨不得|旋即|只得|终于|只好|总算|只是\n",
      "input text word cut results: 绿色食品|与|饥饿|每个|星期|我|妈妈|去|买|疏菜|的|时候|我|也|跟着|去|我|妈妈|不|愿意|在|商店|买菜|喜欢|去|市场|买菜|我|对|妈妈|的|这种|态度|非常|不满|商店|比|市场|近得|多|而且|商店|里|的|疏菜|看起来|非常|新鲜|但|在|市场|上|卖|的|那些|疏菜|看起来|不太|新鲜|而且|有时|我|在|疏菜|上|发现|了|有|虫虫|有|一天|我|和|妈妈|去|市场|市场|离|我家|太远|那时|我太累|了|我|生气|得|跟|妈妈|说|你|为什么|每次|上|市场|买东|酉|呢|在|商店|买|多|方便|而且|商店|里|的|东酉|比|市场|还|新鲜|多|呢|我|妈|对|我|说|看来|商店|里|的|菜|比较|好看|一些|但是|那里|的|东西|都|是|以|化肥|和|农药|生长|的|所以|看起来|我|看|一些|但|对|我们|身体|建康|上|看来|还是|市场|的|绿色食品|对|人类|好|在|过|几天|后|我|在|电视|上|看到|了|非州|的|挨饿|的|人民|电视|上|还|说|现在|世界|上|几亿|人因|缺小|粮食|而|挨饿|为了|他们|生存|我们|要|使用|化肥|和|农药|一定|要|提高|疏菜|的|产量|但|我|还是|认为|不能|用|化肥|和|农药|化肥|和|农药|不仅|对|人类|有害|而且|对|地球|的|土壤|也|有|非常|大害|现在|人类|科学|的|进步|非常|快|我|觉得|我们|不到|几十年|前|可以|开开|不用|农药|而|提高产量|的|方法|这样的话|不仅|对|非州|人们|好|157D\n",
      "connective match result is: ['跟', '和', '而', '但', '还是', '为了', '但是', '而且', '不仅', '不', '在']"
     ]
    }
   ],
   "source": [
    "import pandas as pd\n",
    "import numpy as np\n",
    "import re\n",
    "import jieba\n",
    "import string\n",
    "import zhon\n",
    "from zhon.hanzi import punctuation\n",
    "punctuation\n",
    "string.punctuation\n",
    "\n",
    "# read connective corpus and input text\n",
    "data=pd.read_excel(r'C:\\Users\\dawns\\Desktop\\Master thesis\\data\\connectives corpus simplify.xlsx',index_col=None,header=0)\n",
    "x=input('请输入:''')\n",
    "list1 = data.values.tolist()\n",
    "a = np.array(list1)\n",
    "list2 = a.flatten()\n",
    "list2 = list2.tolist()\n",
    "while 'nan' in list2:\n",
    "    list2.remove('nan')\n",
    "#print(list2)\n",
    "\n",
    "# connective corpus word cut\n",
    "str1 = str(list2)\n",
    "list3 = re.sub('\\W*', '',str1)\n",
    "list3=list(jieba.cut(list3))\n",
    "list4 ='|'.join(list3)\n",
    "print('Connevtive corpus word cut results:',list4)\n",
    "\n",
    "# input text word cut\n",
    "line = re.sub('\\W*', '',x)\n",
    "line\n",
    "line1=list(jieba.cut(line))\n",
    "line1\n",
    "line2='|'.join(line1)\n",
    "line2\n",
    "print('input text word cut results:',line2)\n",
    "\n",
    "# input text and connective corpus match\n",
    "#print('结果是:',re.findall(line2,list4))\n",
    "#list_matched = re.findall(list4,line2)\n",
    "corpus =list4.split('|')\n",
    "text=line2.split('|')\n",
    "a = [x for x in corpus if x in text ]\n",
    "print('connective match result is:',a,end=\"\")\n",
    "\n",
    "\n"
   ]
  },
  {
   "cell_type": "code",
   "execution_count": null,
   "id": "931581a3",
   "metadata": {},
   "outputs": [],
   "source": []
  }
 ],
 "metadata": {
  "kernelspec": {
   "display_name": "Python 3 (ipykernel)",
   "language": "python",
   "name": "python3"
  },
  "language_info": {
   "codemirror_mode": {
    "name": "ipython",
    "version": 3
   },
   "file_extension": ".py",
   "mimetype": "text/x-python",
   "name": "python",
   "nbconvert_exporter": "python",
   "pygments_lexer": "ipython3",
   "version": "3.9.7"
  }
 },
 "nbformat": 4,
 "nbformat_minor": 5
}
