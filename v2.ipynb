{
 "cells": [
  {
   "cell_type": "code",
   "execution_count": 1,
   "id": "7eaed26f",
   "metadata": {},
   "outputs": [
    {
     "name": "stdout",
     "output_type": "stream",
     "text": [
      "请输入:我觉得这种问题每个国家之间上量才决定的问题认为是绿色食品因为我是韩国人在韩国也是很久以前堤出这个问题人人生活当中三个方面最重要衣、食、住。其中食是对我来说最重要韩国也是60～70年代很穷所以不管什么食品只要有吃的东西就吃，过了一段时间慢慢发展现在的程度人们才提醒起来绿色食品的重要性，每个新闻没道理说绿色食品对身体来说什么好处什么作用什么效果，其实这样人们的生活水平堤高生活条件越来越严格自然吃的方面也应当很高的要求{CJy}，堤高基本生活水平，埃饿方面我是没那么关心因为我周围的情况来说不能说明不知道在韩国60～70年代的埃饿情况怎样这种的用化肥和农药使用不使用是国家的大事我个人不能说什么什么但是使用未经污染的农产品加工的食品是表现国家的经济水平的高低反正这个是最基本的社会问题如果这种问题干能解决的话仍然是落后国家的印象给别人古至今这个时代食是依然最重要最关心的事情我想世界人们永远离不开这个问题虽不是各个国家的情况不同但是世界科学的发展速度上来说这个问题马上就解决P}（）（153Z）\"}\n"
     ]
    },
    {
     "name": "stderr",
     "output_type": "stream",
     "text": [
      "Building prefix dict from the default dictionary ...\n",
      "Loading model from cache C:\\Users\\dawns\\AppData\\Local\\Temp\\jieba.cache\n",
      "Loading model cost 0.764 seconds.\n",
      "Prefix dict has been built successfully.\n"
     ]
    },
    {
     "name": "stdout",
     "output_type": "stream",
     "text": [
      "结果是: ['每', '才', '为', '是', '因为', '是', '也', '是', '以', '要', '其', '是', '来', '说', '要', '也', '是', '所以', '不管', '只要', '就', '一', '才', '来', '要', '每', '没', '说', '来', '说', '好', '其', '越', '来', '越', '也', '要', '是', '没', '那么', '因为', '来', '说', '不', '说', '不', '和', '不', '是', '不', '说', '但', '是', '是', '反正', '是', '如果', '的话', '仍然', '是', '别', '是', '要', '不', '虽', '不是', '不', '但', '是', '来', '说', '就']\n"
     ]
    }
   ],
   "source": [
    "import pandas as pd\n",
    "import numpy as np\n",
    "import re\n",
    "import jieba\n",
    "import string\n",
    "import zhon\n",
    "from zhon.hanzi import punctuation\n",
    "punctuation\n",
    "string.punctuation\n",
    "\n",
    "\n",
    "data=pd.read_excel(r'C:\\Users\\dawns\\Desktop\\Master thesis\\data\\connectives corpus.xlsx',index_col=None,header=0)\n",
    "dic=data.to_dict()\n",
    "#k=str(dic)\n",
    "#k\n",
    "x=input('请输入:''')\n",
    "#print('你输入的是:',x)\n",
    "\n",
    "\n",
    "list1 = data.values.tolist()\n",
    "a = np.array(list1)\n",
    "list2 = a.flatten()\n",
    "list2 = list2.tolist()\n",
    "while 'nan' in list2:\n",
    "    list2.remove('nan')\n",
    "#print(list2)\n",
    "str1 = str(list2)\n",
    "list3 = re.sub('\\W*', '',str1)\n",
    "list3=list(jieba.cut(list3))\n",
    "list4 ='|'.join(list3)\n",
    "#print(list4)\n",
    "\n",
    "line = re.sub('\\W*', '',x)\n",
    "line\n",
    "line1=list(jieba.cut(line))\n",
    "line1\n",
    "line2='|'.join(line1)\n",
    "line2\n",
    "#print(line2)\n",
    "print('结果是:',re.findall(list4,line2))\n",
    "list_matched = re.findall(list4,line2)"
   ]
  },
  {
   "cell_type": "code",
   "execution_count": null,
   "id": "931581a3",
   "metadata": {},
   "outputs": [],
   "source": []
  }
 ],
 "metadata": {
  "kernelspec": {
   "display_name": "Python 3 (ipykernel)",
   "language": "python",
   "name": "python3"
  },
  "language_info": {
   "codemirror_mode": {
    "name": "ipython",
    "version": 3
   },
   "file_extension": ".py",
   "mimetype": "text/x-python",
   "name": "python",
   "nbconvert_exporter": "python",
   "pygments_lexer": "ipython3",
   "version": "3.9.7"
  }
 },
 "nbformat": 4,
 "nbformat_minor": 5
}
